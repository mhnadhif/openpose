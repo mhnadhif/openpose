{
 "cells": [
  {
   "cell_type": "markdown",
   "metadata": {},
   "source": [
    "# **Dataset Preprocessing**\n",
    "### **For 3DPeople Dataset**"
   ]
  },
  {
   "cell_type": "code",
   "execution_count": 1,
   "metadata": {},
   "outputs": [],
   "source": [
    "%load_ext autoreload\n",
    "%autoreload 2"
   ]
  },
  {
   "cell_type": "code",
   "execution_count": 2,
   "metadata": {},
   "outputs": [],
   "source": [
    "import os, sys\n",
    "import json\n",
    "from glob import glob\n",
    "\n",
    "import numpy as np\n",
    "\n",
    "from src.scene_transform import *\n",
    "from src.data import *"
   ]
  },
  {
   "cell_type": "code",
   "execution_count": 3,
   "metadata": {},
   "outputs": [],
   "source": [
    "# Load joint indices dictionary\n",
    "joint_path = './src/mapper/all_joint_indices.json'\n",
    "joint_indices = json.load(open(joint_path))\n",
    "\n",
    "joint_indices = list(joint_indices.values())\n",
    "\n",
    "# Load action indices dictionary\n",
    "action_indices_path = './src/mapper/action_indices.json'\n",
    "action_indices = json.load(open(action_indices_path))"
   ]
  },
  {
   "cell_type": "markdown",
   "metadata": {},
   "source": [
    "### **Preprocess Training Dataset**"
   ]
  },
  {
   "cell_type": "code",
   "execution_count": 4,
   "metadata": {},
   "outputs": [],
   "source": [
    "# Get per subject path\n",
    "path = './dataset/3DPeople/raw_train/*'\n",
    "subject_paths = sorted(glob(path))\n",
    "\n",
    "a = []\n",
    "for i in subject_paths:\n",
    "    i = i.replace(\"\\\\\",\"/\")\n",
    "    a.append(i)\n",
    "\n",
    "subject_paths = a\n",
    "# Create save path\n",
    "master_save_path = './dataset/3DPeople/preprocessed_train'\n",
    "os.makedirs(master_save_path, exist_ok = True)"
   ]
  },
  {
   "cell_type": "code",
   "execution_count": 5,
   "metadata": {},
   "outputs": [
    {
     "data": {
      "text/plain": [
       "['./dataset/3DPeople/raw_train/man01',\n",
       " './dataset/3DPeople/raw_train/man02',\n",
       " './dataset/3DPeople/raw_train/man03',\n",
       " './dataset/3DPeople/raw_train/man04',\n",
       " './dataset/3DPeople/raw_train/man05',\n",
       " './dataset/3DPeople/raw_train/man06',\n",
       " './dataset/3DPeople/raw_train/man07',\n",
       " './dataset/3DPeople/raw_train/man08',\n",
       " './dataset/3DPeople/raw_train/man09',\n",
       " './dataset/3DPeople/raw_train/man10',\n",
       " './dataset/3DPeople/raw_train/woman01',\n",
       " './dataset/3DPeople/raw_train/woman02',\n",
       " './dataset/3DPeople/raw_train/woman03',\n",
       " './dataset/3DPeople/raw_train/woman04',\n",
       " './dataset/3DPeople/raw_train/woman05',\n",
       " './dataset/3DPeople/raw_train/woman06',\n",
       " './dataset/3DPeople/raw_train/woman07',\n",
       " './dataset/3DPeople/raw_train/woman08',\n",
       " './dataset/3DPeople/raw_train/woman09',\n",
       " './dataset/3DPeople/raw_train/woman10']"
      ]
     },
     "execution_count": 5,
     "metadata": {},
     "output_type": "execute_result"
    }
   ],
   "source": [
    "subject_paths"
   ]
  },
  {
   "cell_type": "code",
   "execution_count": 6,
   "metadata": {},
   "outputs": [
    {
     "name": "stdout",
     "output_type": "stream",
     "text": [
      "[Subject] 1/20 [Action] 72/72\n",
      "[Subject] 2/20 [Action] 72/72\n",
      "[Subject] 3/20 [Action] 72/72\n",
      "[Subject] 4/20 [Action] 72/72\n",
      "[Subject] 5/20 [Action] 72/72\n",
      "[Subject] 6/20 [Action] 72/72\n",
      "[Subject] 7/20 [Action] 72/72\n",
      "[Subject] 8/20 [Action] 72/72\n",
      "[Subject] 9/20 [Action] 72/72\n",
      "[Subject] 10/20 [Action] 72/72\n",
      "[Subject] 11/20 [Action] 72/72\n",
      "[Subject] 12/20 [Action] 72/72\n",
      "[Subject] 13/20 [Action] 72/72\n",
      "[Subject] 14/20 [Action] 72/72\n",
      "[Subject] 15/20 [Action] 72/72\n",
      "[Subject] 16/20 [Action] 72/72\n",
      "[Subject] 17/20 [Action] 72/72\n",
      "[Subject] 18/20 [Action] 72/72\n",
      "[Subject] 19/20 [Action] 72/72\n",
      "[Subject] 20/20 [Action] 72/72\n",
      "DONE!\n"
     ]
    }
   ],
   "source": [
    "preprocess_dataset(master_save_path, subject_paths, joint_indices, action_indices)"
   ]
  },
  {
   "cell_type": "markdown",
   "metadata": {},
   "source": [
    "### **Preprocess Validation Dataset**"
   ]
  },
  {
   "cell_type": "code",
   "execution_count": 7,
   "metadata": {},
   "outputs": [],
   "source": [
    "# Get per subject path\n",
    "path = './dataset/3DPeople/raw_val/*'\n",
    "subject_paths = sorted(glob(path))\n",
    "\n",
    "a = []\n",
    "for i in subject_paths:\n",
    "    i = i.replace(\"\\\\\",\"/\")\n",
    "    a.append(i)\n",
    "\n",
    "subject_paths = a \n",
    "\n",
    "# Create save path\n",
    "master_save_path = './dataset/3DPeople/preprocessed_val'\n",
    "os.makedirs(master_save_path, exist_ok = True)"
   ]
  },
  {
   "cell_type": "code",
   "execution_count": 8,
   "metadata": {},
   "outputs": [
    {
     "data": {
      "text/plain": [
       "['./dataset/3DPeople/raw_val/man11',\n",
       " './dataset/3DPeople/raw_val/man12',\n",
       " './dataset/3DPeople/raw_val/man13',\n",
       " './dataset/3DPeople/raw_val/man14',\n",
       " './dataset/3DPeople/raw_val/man15',\n",
       " './dataset/3DPeople/raw_val/woman11',\n",
       " './dataset/3DPeople/raw_val/woman12',\n",
       " './dataset/3DPeople/raw_val/woman13',\n",
       " './dataset/3DPeople/raw_val/woman14',\n",
       " './dataset/3DPeople/raw_val/woman15']"
      ]
     },
     "execution_count": 8,
     "metadata": {},
     "output_type": "execute_result"
    }
   ],
   "source": [
    "subject_paths"
   ]
  },
  {
   "cell_type": "code",
   "execution_count": 9,
   "metadata": {},
   "outputs": [
    {
     "name": "stdout",
     "output_type": "stream",
     "text": [
      "[Subject] 1/10 [Action] 72/72\n",
      "[Subject] 2/10 [Action] 72/72\n",
      "[Subject] 3/10 [Action] 72/72\n",
      "[Subject] 4/10 [Action] 72/72\n",
      "[Subject] 5/10 [Action] 72/72\n",
      "[Subject] 6/10 [Action] 72/72\n",
      "[Subject] 7/10 [Action] 72/72\n",
      "[Subject] 8/10 [Action] 72/72\n",
      "[Subject] 9/10 [Action] 72/72\n",
      "[Subject] 10/10 [Action] 72/72\n",
      "DONE!\n"
     ]
    }
   ],
   "source": [
    "preprocess_dataset(master_save_path, subject_paths, joint_indices, action_indices)"
   ]
  },
  {
   "cell_type": "code",
   "execution_count": 10,
   "metadata": {},
   "outputs": [
    {
     "data": {
      "text/plain": [
       "['./dataset/3DPeople/raw_val/man11',\n",
       " './dataset/3DPeople/raw_val/man12',\n",
       " './dataset/3DPeople/raw_val/man13',\n",
       " './dataset/3DPeople/raw_val/man14',\n",
       " './dataset/3DPeople/raw_val/man15',\n",
       " './dataset/3DPeople/raw_val/woman11',\n",
       " './dataset/3DPeople/raw_val/woman12',\n",
       " './dataset/3DPeople/raw_val/woman13',\n",
       " './dataset/3DPeople/raw_val/woman14',\n",
       " './dataset/3DPeople/raw_val/woman15']"
      ]
     },
     "execution_count": 10,
     "metadata": {},
     "output_type": "execute_result"
    }
   ],
   "source": [
    "subject_paths"
   ]
  },
  {
   "cell_type": "markdown",
   "metadata": {},
   "source": [
    "### **Preprocess Testing Dataset**"
   ]
  },
  {
   "cell_type": "code",
   "execution_count": 11,
   "metadata": {},
   "outputs": [],
   "source": [
    "# Get per subject path\n",
    "path = './dataset/3DPeople/raw_test/*'\n",
    "subject_paths = sorted(glob(path))\n",
    "\n",
    "a = []\n",
    "for i in subject_paths:\n",
    "    i = i.replace(\"\\\\\",\"/\")\n",
    "    a.append(i)\n",
    "\n",
    "subject_paths = a\n",
    "\n",
    "# Create save path\n",
    "master_save_path = './dataset/3DPeople/preprocessed_test'\n",
    "os.makedirs(master_save_path, exist_ok = True)"
   ]
  },
  {
   "cell_type": "code",
   "execution_count": 12,
   "metadata": {},
   "outputs": [
    {
     "name": "stdout",
     "output_type": "stream",
     "text": [
      "[Subject] 1/10 [Action] 72/72\n",
      "[Subject] 2/10 [Action] 72/72\n",
      "[Subject] 3/10 [Action] 72/72\n",
      "[Subject] 4/10 [Action] 72/72\n",
      "[Subject] 5/10 [Action] 72/72\n",
      "[Subject] 6/10 [Action] 72/72\n",
      "[Subject] 7/10 [Action] 72/72\n",
      "[Subject] 8/10 [Action] 72/72\n",
      "[Subject] 9/10 [Action] 72/72\n",
      "[Subject] 10/10 [Action] 72/72\n",
      "DONE!\n"
     ]
    }
   ],
   "source": [
    "preprocess_dataset(master_save_path, subject_paths, joint_indices, action_indices)"
   ]
  },
  {
   "cell_type": "code",
   "execution_count": null,
   "metadata": {},
   "outputs": [],
   "source": []
  }
 ],
 "metadata": {
  "kernelspec": {
   "display_name": "Python 3",
   "language": "python",
   "name": "python3"
  },
  "language_info": {
   "codemirror_mode": {
    "name": "ipython",
    "version": 3
   },
   "file_extension": ".py",
   "mimetype": "text/x-python",
   "name": "python",
   "nbconvert_exporter": "python",
   "pygments_lexer": "ipython3",
   "version": "3.8.6"
  }
 },
 "nbformat": 4,
 "nbformat_minor": 2
}
